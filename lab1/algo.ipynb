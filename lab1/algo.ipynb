{
 "cells": [
  {
   "cell_type": "code",
   "execution_count": 4,
   "metadata": {
    "collapsed": true
   },
   "outputs": [
    {
     "name": "stdout",
     "output_type": "stream",
     "text": [
      "6=3+3\n"
     ]
    }
   ],
   "source": [
    "def primes(max_num: int) -> list[bool]:\n",
    "    prime = [True for _ in range(max_num + 1)]\n",
    "    num = 2\n",
    "    while num * num <= max_num:\n",
    "        if prime[num]:\n",
    "            for i in range(num * num, max_num + 1, num):\n",
    "                prime[i] = False\n",
    "        num += 1\n",
    "    return prime\n",
    "\n",
    "\n",
    "current_number = int(input(\"Enter an  even number bigger than 2:\"))\n",
    "if current_number % 2 != 0 or current_number <= 2:\n",
    "    print(\"Error. Wrong number entered\")\n",
    "else:\n",
    "    prime_arr = primes(current_number)\n",
    "    for i in range(2, current_number // 2 + 1):\n",
    "        if prime_arr[i] and prime_arr[current_number - i]:\n",
    "            print(\"{}={}+{}\".format(current_number, i, current_number - i))\n",
    "            break"
   ]
  }
 ],
 "metadata": {
  "kernelspec": {
   "display_name": "Python 3",
   "language": "python",
   "name": "python3"
  },
  "language_info": {
   "codemirror_mode": {
    "name": "ipython",
    "version": 2
   },
   "file_extension": ".py",
   "mimetype": "text/x-python",
   "name": "python",
   "nbconvert_exporter": "python",
   "pygments_lexer": "ipython2",
   "version": "2.7.6"
  }
 },
 "nbformat": 4,
 "nbformat_minor": 0
}
