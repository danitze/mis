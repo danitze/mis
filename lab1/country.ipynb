{
 "cells": [
  {
   "cell_type": "markdown",
   "source": [
    "# Греція\n",
    "<div style=\"border-width:2px; border-style:solid; border-color:white\"><font color=\"#FBCEB1\">Гре́ція</font> — суверенна європейська держава на півдні Балканського півострова та численних островах грецького архіпелагу.</div>\n",
    "\n",
    "![Герб](https://img.freepik.com/premium-vector/coat-of-arms-of-greece_979270-1448.jpg)\n",
    "![Мапа](./img/GREECE.jpg)\n",
    "\n",
    "[Повна інформація](https://uk.wikipedia.org/wiki/Греція)\n",
    "## Загальна інформація\n",
    "**Площа:** *131 957 км²*\n",
    "**Населення:** *10 816 286 осіб*\n",
    "**Державний устрій:** *унітарна держава*\n",
    "## Видатні персони\n",
    "| Персона                 | Опис                           |\n",
    "|-------------------------|--------------------------------|\n",
    "| Гомер                   | Автор \"Ілліади\" та \"Одисеї\"    |\n",
    "| Сократ                  | Давньогрецький філософ         |\n",
    "| Архімед                 | Винахідник, математик та фізик |\n",
    "| Олександр Македонський  | Імператор                      |\n",
    "## Пам'ятки\n",
    "- Афіни\n",
    "    1. Акрополь\n",
    "    2. Парфенон\n",
    "    3. Храм Зевса\n",
    "- о. Крит\n",
    "- п-ів Пелопоннес\n",
    "- Дельфи\n",
    "- Монастирі Метеора"
   ],
   "metadata": {
    "collapsed": false
   }
  },
  {
   "cell_type": "code",
   "execution_count": 1,
   "outputs": [
    {
     "data": {
      "text/plain": "<IPython.core.display.HTML object>",
      "text/html": "<p>Флаг:</p>\n<svg xmlns=\"http://www.w3.org/2000/svg\" width=\"600\" height=\"400\" viewBox=\"0 0 27 18\">\n<rect fill=\"#0D5EAF\" width=\"27\" height=\"18\"/>\n<path fill=\"none\" stroke-width=\"2\" stroke=\"#FFF\" d=\"M5,0V11 M0,5H10 M10,3H27 M10,7H27 M0,11H27 M0,15H27\"/>\n</svg>\n"
     },
     "metadata": {},
     "output_type": "display_data"
    }
   ],
   "source": [
    "%%HTML\n",
    "<p>Флаг:</p>\n",
    "<svg xmlns=\"http://www.w3.org/2000/svg\" width=\"600\" height=\"400\" viewBox=\"0 0 27 18\">\n",
    "<rect fill=\"#0D5EAF\" width=\"27\" height=\"18\"/>\n",
    "<path fill=\"none\" stroke-width=\"2\" stroke=\"#FFF\" d=\"M5,0V11 M0,5H10 M10,3H27 M10,7H27 M0,11H27 M0,15H27\"/>\n",
    "</svg>"
   ],
   "metadata": {
    "collapsed": false
   }
  }
 ],
 "metadata": {
  "kernelspec": {
   "display_name": "Python 3",
   "language": "python",
   "name": "python3"
  },
  "language_info": {
   "codemirror_mode": {
    "name": "ipython",
    "version": 2
   },
   "file_extension": ".py",
   "mimetype": "text/x-python",
   "name": "python",
   "nbconvert_exporter": "python",
   "pygments_lexer": "ipython2",
   "version": "2.7.6"
  }
 },
 "nbformat": 4,
 "nbformat_minor": 0
}
