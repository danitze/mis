{
 "cells": [
  {
   "cell_type": "code",
   "execution_count": 1,
   "outputs": [],
   "source": [
    "import pandas as pd\n",
    "names = pd.read_csv('NationalNames.csv')"
   ],
   "metadata": {
    "collapsed": false
   }
  },
  {
   "cell_type": "markdown",
   "source": [
    "# 1. Виведіть перші 8 рядків набору даних."
   ],
   "metadata": {
    "collapsed": false
   }
  },
  {
   "cell_type": "code",
   "execution_count": 2,
   "outputs": [
    {
     "data": {
      "text/plain": "   Id       Name  Year Gender  Count\n0   1       Mary  1880      F   7065\n1   2       Anna  1880      F   2604\n2   3       Emma  1880      F   2003\n3   4  Elizabeth  1880      F   1939\n4   5     Minnie  1880      F   1746\n5   6   Margaret  1880      F   1578\n6   7        Ida  1880      F   1472\n7   8      Alice  1880      F   1414",
      "text/html": "<div>\n<style scoped>\n    .dataframe tbody tr th:only-of-type {\n        vertical-align: middle;\n    }\n\n    .dataframe tbody tr th {\n        vertical-align: top;\n    }\n\n    .dataframe thead th {\n        text-align: right;\n    }\n</style>\n<table border=\"1\" class=\"dataframe\">\n  <thead>\n    <tr style=\"text-align: right;\">\n      <th></th>\n      <th>Id</th>\n      <th>Name</th>\n      <th>Year</th>\n      <th>Gender</th>\n      <th>Count</th>\n    </tr>\n  </thead>\n  <tbody>\n    <tr>\n      <th>0</th>\n      <td>1</td>\n      <td>Mary</td>\n      <td>1880</td>\n      <td>F</td>\n      <td>7065</td>\n    </tr>\n    <tr>\n      <th>1</th>\n      <td>2</td>\n      <td>Anna</td>\n      <td>1880</td>\n      <td>F</td>\n      <td>2604</td>\n    </tr>\n    <tr>\n      <th>2</th>\n      <td>3</td>\n      <td>Emma</td>\n      <td>1880</td>\n      <td>F</td>\n      <td>2003</td>\n    </tr>\n    <tr>\n      <th>3</th>\n      <td>4</td>\n      <td>Elizabeth</td>\n      <td>1880</td>\n      <td>F</td>\n      <td>1939</td>\n    </tr>\n    <tr>\n      <th>4</th>\n      <td>5</td>\n      <td>Minnie</td>\n      <td>1880</td>\n      <td>F</td>\n      <td>1746</td>\n    </tr>\n    <tr>\n      <th>5</th>\n      <td>6</td>\n      <td>Margaret</td>\n      <td>1880</td>\n      <td>F</td>\n      <td>1578</td>\n    </tr>\n    <tr>\n      <th>6</th>\n      <td>7</td>\n      <td>Ida</td>\n      <td>1880</td>\n      <td>F</td>\n      <td>1472</td>\n    </tr>\n    <tr>\n      <th>7</th>\n      <td>8</td>\n      <td>Alice</td>\n      <td>1880</td>\n      <td>F</td>\n      <td>1414</td>\n    </tr>\n  </tbody>\n</table>\n</div>"
     },
     "execution_count": 2,
     "metadata": {},
     "output_type": "execute_result"
    }
   ],
   "source": [
    "names.head(8)"
   ],
   "metadata": {
    "collapsed": false
   }
  },
  {
   "cell_type": "markdown",
   "source": [
    "# 2. Вивести останні 8 рядків набору даних."
   ],
   "metadata": {
    "collapsed": false
   }
  },
  {
   "cell_type": "code",
   "execution_count": 3,
   "outputs": [
    {
     "data": {
      "text/plain": "              Id     Name  Year Gender  Count\n1825425  1825426       Zo  2014      M      5\n1825426  1825427    Zyeir  2014      M      5\n1825427  1825428     Zyel  2014      M      5\n1825428  1825429   Zykeem  2014      M      5\n1825429  1825430   Zymeer  2014      M      5\n1825430  1825431  Zymiere  2014      M      5\n1825431  1825432    Zyran  2014      M      5\n1825432  1825433    Zyrin  2014      M      5",
      "text/html": "<div>\n<style scoped>\n    .dataframe tbody tr th:only-of-type {\n        vertical-align: middle;\n    }\n\n    .dataframe tbody tr th {\n        vertical-align: top;\n    }\n\n    .dataframe thead th {\n        text-align: right;\n    }\n</style>\n<table border=\"1\" class=\"dataframe\">\n  <thead>\n    <tr style=\"text-align: right;\">\n      <th></th>\n      <th>Id</th>\n      <th>Name</th>\n      <th>Year</th>\n      <th>Gender</th>\n      <th>Count</th>\n    </tr>\n  </thead>\n  <tbody>\n    <tr>\n      <th>1825425</th>\n      <td>1825426</td>\n      <td>Zo</td>\n      <td>2014</td>\n      <td>M</td>\n      <td>5</td>\n    </tr>\n    <tr>\n      <th>1825426</th>\n      <td>1825427</td>\n      <td>Zyeir</td>\n      <td>2014</td>\n      <td>M</td>\n      <td>5</td>\n    </tr>\n    <tr>\n      <th>1825427</th>\n      <td>1825428</td>\n      <td>Zyel</td>\n      <td>2014</td>\n      <td>M</td>\n      <td>5</td>\n    </tr>\n    <tr>\n      <th>1825428</th>\n      <td>1825429</td>\n      <td>Zykeem</td>\n      <td>2014</td>\n      <td>M</td>\n      <td>5</td>\n    </tr>\n    <tr>\n      <th>1825429</th>\n      <td>1825430</td>\n      <td>Zymeer</td>\n      <td>2014</td>\n      <td>M</td>\n      <td>5</td>\n    </tr>\n    <tr>\n      <th>1825430</th>\n      <td>1825431</td>\n      <td>Zymiere</td>\n      <td>2014</td>\n      <td>M</td>\n      <td>5</td>\n    </tr>\n    <tr>\n      <th>1825431</th>\n      <td>1825432</td>\n      <td>Zyran</td>\n      <td>2014</td>\n      <td>M</td>\n      <td>5</td>\n    </tr>\n    <tr>\n      <th>1825432</th>\n      <td>1825433</td>\n      <td>Zyrin</td>\n      <td>2014</td>\n      <td>M</td>\n      <td>5</td>\n    </tr>\n  </tbody>\n</table>\n</div>"
     },
     "execution_count": 3,
     "metadata": {},
     "output_type": "execute_result"
    }
   ],
   "source": [
    "names.tail(8)"
   ],
   "metadata": {
    "collapsed": false
   }
  },
  {
   "cell_type": "markdown",
   "source": [
    "# 3. Отримайте імена стовпців набору даних"
   ],
   "metadata": {
    "collapsed": false
   }
  },
  {
   "cell_type": "code",
   "execution_count": 4,
   "outputs": [
    {
     "data": {
      "text/plain": "Index(['Id', 'Name', 'Year', 'Gender', 'Count'], dtype='object')"
     },
     "execution_count": 4,
     "metadata": {},
     "output_type": "execute_result"
    }
   ],
   "source": [
    "names.columns"
   ],
   "metadata": {
    "collapsed": false
   }
  },
  {
   "cell_type": "markdown",
   "source": [
    "# 5. Знайдіть кількість унікальних імен у наборі даних"
   ],
   "metadata": {
    "collapsed": false
   }
  },
  {
   "cell_type": "code",
   "execution_count": 5,
   "outputs": [
    {
     "data": {
      "text/plain": "93889"
     },
     "execution_count": 5,
     "metadata": {},
     "output_type": "execute_result"
    }
   ],
   "source": [
    "names.Name.unique().size"
   ],
   "metadata": {
    "collapsed": false
   }
  },
  {
   "cell_type": "markdown",
   "source": [
    "# 10. Підрахуйте кількість унікальних імен у кожному році"
   ],
   "metadata": {
    "collapsed": false
   }
  },
  {
   "cell_type": "code",
   "execution_count": 6,
   "outputs": [
    {
     "data": {
      "text/plain": "Year\n1880     1889\n1881     1830\n1882     2012\n1883     1962\n1884     2158\n        ...  \n2010    31603\n2011    31418\n2012    31236\n2013    30774\n2014    30579\nName: Name, Length: 135, dtype: int64"
     },
     "execution_count": 6,
     "metadata": {},
     "output_type": "execute_result"
    }
   ],
   "source": [
    "unique_year_names = names.groupby('Year')['Name'].unique().map(lambda year_names: year_names.size)\n",
    "unique_year_names"
   ],
   "metadata": {
    "collapsed": false
   }
  },
  {
   "cell_type": "markdown",
   "source": [
    "# 11. Знайдіть рік із найбільшою кількістю унікальних імен."
   ],
   "metadata": {
    "collapsed": false
   }
  },
  {
   "cell_type": "code",
   "execution_count": 7,
   "outputs": [
    {
     "data": {
      "text/plain": "Year\n2008    32488\nName: Name, dtype: int64"
     },
     "execution_count": 7,
     "metadata": {},
     "output_type": "execute_result"
    }
   ],
   "source": [
    "max_unique_year = unique_year_names.nlargest(1)\n",
    "max_unique_year"
   ],
   "metadata": {
    "collapsed": false
   }
  },
  {
   "cell_type": "markdown",
   "source": [
    "# 12. Знайдіть найпопулярніше ім’я в році з найбільшою кількістю унікальних імен (тобто у 2008 році)"
   ],
   "metadata": {
    "collapsed": false
   }
  },
  {
   "cell_type": "code",
   "execution_count": 8,
   "outputs": [
    {
     "data": {
      "text/plain": "'Jacob'"
     },
     "execution_count": 8,
     "metadata": {},
     "output_type": "execute_result"
    }
   ],
   "source": [
    "max_unique_year_key = max_unique_year.index[0]\n",
    "names.loc[names[names.Year == max_unique_year_key]['Count'].idxmax()]['Name']"
   ],
   "metadata": {
    "collapsed": false
   }
  },
  {
   "cell_type": "markdown",
   "source": [
    "# 13. Знайдіть рік, коли ім’я “Jacob” було найпопулярнішим серед жіночих імен"
   ],
   "metadata": {
    "collapsed": false
   }
  },
  {
   "cell_type": "code",
   "execution_count": 9,
   "outputs": [
    {
     "data": {
      "text/plain": "Id        1455557\nName        Jacob\nYear         2004\nGender          F\nCount         171\nName: 1455556, dtype: object"
     },
     "execution_count": 9,
     "metadata": {},
     "output_type": "execute_result"
    }
   ],
   "source": [
    "names.loc[names[(names.Name == 'Jacob') & (names.Gender == 'F')]['Count'].idxmax()]"
   ],
   "metadata": {
    "collapsed": false
   }
  },
  {
   "cell_type": "markdown",
   "source": [
    "# 14. Знайти рік із найбільшою кількістю гендерно нейтральних імен (однакові чоловічі та жіночі імена)"
   ],
   "metadata": {
    "collapsed": false
   }
  },
  {
   "cell_type": "code",
   "execution_count": 10,
   "outputs": [
    {
     "data": {
      "text/plain": "<pandas.io.formats.style.Styler at 0x13aa17a30>",
      "text/html": "<style type=\"text/css\">\n</style>\n<table id=\"T_21237\">\n  <thead>\n    <tr>\n      <th id=\"T_21237_level0_col0\" class=\"col_heading level0 col0\" >Year</th>\n      <th id=\"T_21237_level0_col1\" class=\"col_heading level0 col1\" >Gender_neutral_names</th>\n    </tr>\n  </thead>\n  <tbody>\n    <tr>\n      <td id=\"T_21237_row0_col0\" class=\"data row0 col0\" >2008</td>\n      <td id=\"T_21237_row0_col1\" class=\"data row0 col1\" >2557</td>\n    </tr>\n  </tbody>\n</table>\n"
     },
     "execution_count": 10,
     "metadata": {},
     "output_type": "execute_result"
    }
   ],
   "source": [
    "selection = names.groupby(['Year', 'Name'])['Gender'].nunique().reset_index()\n",
    "selection = selection[selection['Gender'] == 2]\n",
    "selection = selection.groupby('Year').size().reset_index(name='Gender_neutral_names')\n",
    "selection = selection.loc[selection['Gender_neutral_names'].idxmax()]\n",
    "\n",
    "pd.DataFrame(selection).T.style.hide()"
   ],
   "metadata": {
    "collapsed": false
   }
  },
  {
   "cell_type": "markdown",
   "source": [
    "# 15. Знайдіть загальну кількість народжень за рік."
   ],
   "metadata": {
    "collapsed": false
   }
  },
  {
   "cell_type": "code",
   "execution_count": 11,
   "outputs": [
    {
     "data": {
      "text/plain": "Year\n1880     201484\n1881     192699\n1882     221538\n1883     216950\n1884     243467\n         ...   \n2010    3686589\n2011    3646730\n2012    3643336\n2013    3626802\n2014    3670151\nName: Count, Length: 135, dtype: int64"
     },
     "execution_count": 11,
     "metadata": {},
     "output_type": "execute_result"
    }
   ],
   "source": [
    "year_births = names.groupby('Year')['Count'].sum()\n",
    "year_births"
   ],
   "metadata": {
    "collapsed": false
   }
  },
  {
   "cell_type": "markdown",
   "source": [
    "# 16. Знайдіть рік, коли народилося найбільше дітей"
   ],
   "metadata": {
    "collapsed": false
   }
  },
  {
   "cell_type": "code",
   "execution_count": 12,
   "outputs": [
    {
     "data": {
      "text/plain": "1957"
     },
     "execution_count": 12,
     "metadata": {},
     "output_type": "execute_result"
    }
   ],
   "source": [
    "year_births.nlargest(1).index[0]"
   ],
   "metadata": {
    "collapsed": false
   }
  },
  {
   "cell_type": "markdown",
   "source": [
    "# 17. Знайдіть кількість дівчаток та хлопчиків, які народились кожного року"
   ],
   "metadata": {
    "collapsed": false
   }
  },
  {
   "cell_type": "code",
   "execution_count": 13,
   "outputs": [
    {
     "data": {
      "text/plain": "     Year        F        M\n0    1880    90993   110491\n1    1881    91954   100745\n2    1882   107850   113688\n3    1883   112321   104629\n4    1884   129022   114445\n..    ...      ...      ...\n130  2010  1772738  1913851\n131  2011  1753500  1893230\n132  2012  1753922  1889414\n133  2013  1745339  1881463\n134  2014  1768775  1901376\n\n[135 rows x 3 columns]",
      "text/html": "<div>\n<style scoped>\n    .dataframe tbody tr th:only-of-type {\n        vertical-align: middle;\n    }\n\n    .dataframe tbody tr th {\n        vertical-align: top;\n    }\n\n    .dataframe thead th {\n        text-align: right;\n    }\n</style>\n<table border=\"1\" class=\"dataframe\">\n  <thead>\n    <tr style=\"text-align: right;\">\n      <th></th>\n      <th>Year</th>\n      <th>F</th>\n      <th>M</th>\n    </tr>\n  </thead>\n  <tbody>\n    <tr>\n      <th>0</th>\n      <td>1880</td>\n      <td>90993</td>\n      <td>110491</td>\n    </tr>\n    <tr>\n      <th>1</th>\n      <td>1881</td>\n      <td>91954</td>\n      <td>100745</td>\n    </tr>\n    <tr>\n      <th>2</th>\n      <td>1882</td>\n      <td>107850</td>\n      <td>113688</td>\n    </tr>\n    <tr>\n      <th>3</th>\n      <td>1883</td>\n      <td>112321</td>\n      <td>104629</td>\n    </tr>\n    <tr>\n      <th>4</th>\n      <td>1884</td>\n      <td>129022</td>\n      <td>114445</td>\n    </tr>\n    <tr>\n      <th>...</th>\n      <td>...</td>\n      <td>...</td>\n      <td>...</td>\n    </tr>\n    <tr>\n      <th>130</th>\n      <td>2010</td>\n      <td>1772738</td>\n      <td>1913851</td>\n    </tr>\n    <tr>\n      <th>131</th>\n      <td>2011</td>\n      <td>1753500</td>\n      <td>1893230</td>\n    </tr>\n    <tr>\n      <th>132</th>\n      <td>2012</td>\n      <td>1753922</td>\n      <td>1889414</td>\n    </tr>\n    <tr>\n      <th>133</th>\n      <td>2013</td>\n      <td>1745339</td>\n      <td>1881463</td>\n    </tr>\n    <tr>\n      <th>134</th>\n      <td>2014</td>\n      <td>1768775</td>\n      <td>1901376</td>\n    </tr>\n  </tbody>\n</table>\n<p>135 rows × 3 columns</p>\n</div>"
     },
     "execution_count": 13,
     "metadata": {},
     "output_type": "execute_result"
    }
   ],
   "source": [
    "selection = names.groupby(['Year', 'Gender']).sum()['Count'].reset_index()\n",
    "selection = selection.pivot(index='Year', columns='Gender', values='Count').reset_index()\n",
    "selection.columns.name = None\n",
    "selection.columns = ['Year', 'F', 'M']\n",
    "selection"
   ],
   "metadata": {
    "collapsed": false
   }
  },
  {
   "cell_type": "markdown",
   "source": [
    "# 18. Підрахуйте кількість років, коли дівчаток народжувалось більше, ніж хлопчиків."
   ],
   "metadata": {
    "collapsed": false
   }
  },
  {
   "cell_type": "code",
   "execution_count": 14,
   "outputs": [
    {
     "data": {
      "text/plain": "54"
     },
     "execution_count": 14,
     "metadata": {},
     "output_type": "execute_result"
    }
   ],
   "source": [
    "len(selection[selection.F > selection.M])"
   ],
   "metadata": {
    "collapsed": false
   }
  },
  {
   "cell_type": "markdown",
   "source": [
    "# 21. Порахуйте, скільки разів хлопчиків називали Barbara"
   ],
   "metadata": {
    "collapsed": false
   }
  },
  {
   "cell_type": "code",
   "execution_count": 32,
   "outputs": [
    {
     "data": {
      "text/plain": "4139"
     },
     "execution_count": 32,
     "metadata": {},
     "output_type": "execute_result"
    }
   ],
   "source": [
    "selection = names.groupby(['Name', 'Gender']).sum()['Count'].reset_index()\n",
    "selection = selection[(selection.Name == 'Barbara') & (selection.Gender == 'M')].reset_index()\n",
    "selection.iloc[0]['Count']"
   ],
   "metadata": {
    "collapsed": false
   }
  },
  {
   "cell_type": "markdown",
   "source": [
    "# 22. Підрахуйте скільки років проводилось спостереження"
   ],
   "metadata": {
    "collapsed": false
   }
  },
  {
   "cell_type": "code",
   "execution_count": 34,
   "outputs": [
    {
     "data": {
      "text/plain": "'Спостереження проводилось 135 років'"
     },
     "execution_count": 34,
     "metadata": {},
     "output_type": "execute_result"
    }
   ],
   "source": [
    "diff_years = 1 + names.nlargest(1, 'Year').reset_index().iloc[0]['Year'] - names.nsmallest(1, 'Year').reset_index().iloc[0]['Year']\n",
    "\"Спостереження проводилось {} років\".format(diff_years)"
   ],
   "metadata": {
    "collapsed": false
   }
  },
  {
   "cell_type": "markdown",
   "source": [
    "# 23. Знати найпопулярніші гендерно-нейтральні імена (ті, що присутні кожного року)"
   ],
   "metadata": {
    "collapsed": false
   }
  },
  {
   "cell_type": "code",
   "execution_count": 47,
   "outputs": [
    {
     "data": {
      "text/plain": "       Name\n0   Francis\n1     James\n2      Jean\n3     Jesse\n4    Jessie\n5      John\n6   Johnnie\n7    Joseph\n8       Lee\n9    Leslie\n10   Marion\n11    Ollie\n12   Robert\n13   Sidney\n14   Tommie\n15  William",
      "text/html": "<div>\n<style scoped>\n    .dataframe tbody tr th:only-of-type {\n        vertical-align: middle;\n    }\n\n    .dataframe tbody tr th {\n        vertical-align: top;\n    }\n\n    .dataframe thead th {\n        text-align: right;\n    }\n</style>\n<table border=\"1\" class=\"dataframe\">\n  <thead>\n    <tr style=\"text-align: right;\">\n      <th></th>\n      <th>Name</th>\n    </tr>\n  </thead>\n  <tbody>\n    <tr>\n      <th>0</th>\n      <td>Francis</td>\n    </tr>\n    <tr>\n      <th>1</th>\n      <td>James</td>\n    </tr>\n    <tr>\n      <th>2</th>\n      <td>Jean</td>\n    </tr>\n    <tr>\n      <th>3</th>\n      <td>Jesse</td>\n    </tr>\n    <tr>\n      <th>4</th>\n      <td>Jessie</td>\n    </tr>\n    <tr>\n      <th>5</th>\n      <td>John</td>\n    </tr>\n    <tr>\n      <th>6</th>\n      <td>Johnnie</td>\n    </tr>\n    <tr>\n      <th>7</th>\n      <td>Joseph</td>\n    </tr>\n    <tr>\n      <th>8</th>\n      <td>Lee</td>\n    </tr>\n    <tr>\n      <th>9</th>\n      <td>Leslie</td>\n    </tr>\n    <tr>\n      <th>10</th>\n      <td>Marion</td>\n    </tr>\n    <tr>\n      <th>11</th>\n      <td>Ollie</td>\n    </tr>\n    <tr>\n      <th>12</th>\n      <td>Robert</td>\n    </tr>\n    <tr>\n      <th>13</th>\n      <td>Sidney</td>\n    </tr>\n    <tr>\n      <th>14</th>\n      <td>Tommie</td>\n    </tr>\n    <tr>\n      <th>15</th>\n      <td>William</td>\n    </tr>\n  </tbody>\n</table>\n</div>"
     },
     "execution_count": 47,
     "metadata": {},
     "output_type": "execute_result"
    }
   ],
   "source": [
    "selection = names.groupby(['Year', 'Name'])['Gender'].nunique().reset_index()\n",
    "selection = selection[selection.Gender == 2].reset_index()\n",
    "selection = selection.groupby('Name')['Year'].nunique().reset_index()\n",
    "selection[selection.Year == diff_years].Name.reset_index().drop('index', axis=1)"
   ],
   "metadata": {
    "collapsed": false
   }
  },
  {
   "cell_type": "markdown",
   "source": [
    "# 26. Побудувати графіки розподілення кількості жіночих імен John та чоловічих імен Mary по роках."
   ],
   "metadata": {
    "collapsed": false
   }
  },
  {
   "cell_type": "code",
   "execution_count": 57,
   "outputs": [
    {
     "data": {
      "text/plain": "<Figure size 1000x600 with 1 Axes>",
      "image/png": "[encoded data removed]"
     },
     "metadata": {},
     "output_type": "display_data"
    }
   ],
   "source": [
    "import matplotlib.pyplot as plt\n",
    "selection_john = names[(names.Name == 'John') & (names.Gender == 'F')]\n",
    "selection_mary = names[(names.Name == 'Mary') & (names.Gender == 'M')]\n",
    "plt.figure(figsize=(10, 6))\n",
    "plt.plot(selection_john['Year'], selection_john['Count'], label='John')\n",
    "plt.plot(selection_mary['Year'], selection_mary['Count'], label='Mary')\n",
    "\n",
    "plt.xlabel('Year')\n",
    "plt.ylabel('Count')\n",
    "plt.legend()\n",
    "plt.grid(True)\n",
    "plt.show()"
   ],
   "metadata": {
    "collapsed": false
   }
  },
  {
   "cell_type": "code",
   "execution_count": null,
   "outputs": [],
   "source": [],
   "metadata": {
    "collapsed": false
   }
  }
 ],
 "metadata": {
  "kernelspec": {
   "display_name": "Python 3",
   "language": "python",
   "name": "python3"
  },
  "language_info": {
   "codemirror_mode": {
    "name": "ipython",
    "version": 2
   },
   "file_extension": ".py",
   "mimetype": "text/x-python",
   "name": "python",
   "nbconvert_exporter": "python",
   "pygments_lexer": "ipython2",
   "version": "2.7.6"
  }
 },
 "nbformat": 4,
 "nbformat_minor": 0
}
