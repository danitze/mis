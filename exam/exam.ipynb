{
 "cells": [
  {
   "attachments": {},
   "cell_type": "markdown",
   "id": "fb213ec8",
   "metadata": {},
   "source": [
    "# Андрєєв Данило, ІПС-41"
   ]
  },
  {
   "cell_type": "code",
   "execution_count": 1,
   "id": "13161de7",
   "metadata": {},
   "outputs": [],
   "source": [
    "import pandas as pd\n",
    "import numpy as np\n",
    "import matplotlib.pyplot as plt\n",
    "\n",
    "data = pd.read_csv('Expanded_data_with_more_features.csv')"
   ]
  },
  {
   "cell_type": "code",
   "execution_count": 2,
   "id": "1f7361e6",
   "metadata": {},
   "outputs": [
    {
     "name": "stdout",
     "output_type": "stream",
     "text": [
      "Male students: 15217\n",
      "Female students: 15424\n"
     ]
    }
   ],
   "source": [
    "# 1. How many male and female students are in the dataset?\n",
    "gender_counts = data['Gender'].value_counts()\n",
    "print(\"Male students:\", gender_counts['male'])\n",
    "print(\"Female students:\", gender_counts['female'])"
   ]
  },
  {
   "cell_type": "code",
   "execution_count": 3,
   "id": "ea344f84",
   "metadata": {},
   "outputs": [
    {
     "name": "stdout",
     "output_type": "stream",
     "text": [
      "Male student percentage: 49.6622172905584\n"
     ]
    }
   ],
   "source": [
    "# 2. What percentage of students are male in the dataset?\n",
    "male_percentage = (gender_counts['male'] / data.shape[0]) * 100\n",
    "print(\"Male student percentage:\", male_percentage)"
   ]
  },
  {
   "cell_type": "code",
   "execution_count": 4,
   "id": "36196352",
   "metadata": {},
   "outputs": [
    {
     "name": "stdout",
     "output_type": "stream",
     "text": [
      "Female student percentage: 50.337782709441605\n"
     ]
    }
   ],
   "source": [
    "# 3. What percentage of students are female in the dataset?\n",
    "female_percentage = (gender_counts['female'] / data.shape[0]) * 100\n",
    "print(\"Female student percentage:\", female_percentage)"
   ]
  },
  {
   "cell_type": "code",
   "execution_count": 5,
   "outputs": [
    {
     "data": {
      "text/plain": "<Figure size 640x480 with 1 Axes>",
      "image/png": "[encoded data removed]"
     },
     "metadata": {},
     "output_type": "display_data"
    }
   ],
   "source": [
    "labels = 'Male', 'Female'\n",
    "sizes = [male_percentage, female_percentage]\n",
    "explode = (0, 0)\n",
    "\n",
    "fig1, ax1 = plt.subplots()\n",
    "ax1.pie(sizes, explode=explode, labels=labels, autopct='%1.1f%%',\n",
    "        shadow=True, startangle=90)\n",
    "ax1.axis('equal')\n",
    "\n",
    "plt.show()"
   ],
   "metadata": {
    "collapsed": false
   }
  },
  {
   "cell_type": "code",
   "execution_count": 6,
   "id": "e1ec2579",
   "metadata": {},
   "outputs": [
    {
     "name": "stdout",
     "output_type": "stream",
     "text": [
      "group E\n"
     ]
    }
   ],
   "source": [
    "# 4. Which ethnic group has the highest average score in math?\n",
    "highest_math = data.groupby('EthnicGroup')['MathScore'].mean().idxmax()\n",
    "print(highest_math)"
   ]
  },
  {
   "cell_type": "code",
   "execution_count": 7,
   "id": "1bd6773f",
   "metadata": {},
   "outputs": [
    {
     "name": "stdout",
     "output_type": "stream",
     "text": [
      "group E\n"
     ]
    }
   ],
   "source": [
    "# 5. Which ethnic group has the highest average score in reading?\n",
    "highest_reading = data.groupby('EthnicGroup')['ReadingScore'].mean().idxmax()\n",
    "print(highest_reading)"
   ]
  },
  {
   "cell_type": "code",
   "execution_count": 8,
   "id": "6e5f8472",
   "metadata": {},
   "outputs": [
    {
     "name": "stdout",
     "output_type": "stream",
     "text": [
      "group E\n"
     ]
    }
   ],
   "source": [
    "# 6. Which ethnic group has the highest average score in writing?\n",
    "highest_writing = data.groupby('EthnicGroup')['WritingScore'].mean().idxmax()\n",
    "print(highest_writing)"
   ]
  },
  {
   "cell_type": "code",
   "execution_count": 9,
   "id": "cb3bcd34",
   "metadata": {},
   "outputs": [
    {
     "name": "stdout",
     "output_type": "stream",
     "text": [
      "69.5466599698644\n"
     ]
    }
   ],
   "source": [
    "# 7. What is the average math score for students who completed the test preparation course?\n",
    "avg_math_completed = data[data['TestPrep'] == 'completed']['MathScore'].mean()\n",
    "print(avg_math_completed)"
   ]
  },
  {
   "cell_type": "code",
   "execution_count": 10,
   "id": "cf7f61d0",
   "metadata": {},
   "outputs": [
    {
     "name": "stdout",
     "output_type": "stream",
     "text": [
      "73.73299849321948\n"
     ]
    }
   ],
   "source": [
    "# 8. What is the average reading score for students who completed the test preparation course?\n",
    "avg_reading_completed = data[data['TestPrep'] == 'completed']['ReadingScore'].mean()\n",
    "print(avg_reading_completed)"
   ]
  },
  {
   "cell_type": "code",
   "execution_count": 11,
   "id": "25c59aa0",
   "metadata": {},
   "outputs": [
    {
     "name": "stdout",
     "output_type": "stream",
     "text": [
      "74.70326469111\n"
     ]
    }
   ],
   "source": [
    "# 9. What is the average writing score for students who completed the test preparation course?\n",
    "avg_writing_completed = data[data['TestPrep'] == 'completed']['WritingScore'].mean()\n",
    "print(avg_writing_completed)"
   ]
  },
  {
   "cell_type": "code",
   "execution_count": 12,
   "id": "2c100ed9",
   "metadata": {},
   "outputs": [
    {
     "name": "stdout",
     "output_type": "stream",
     "text": [
      "16844\n"
     ]
    }
   ],
   "source": [
    "# 10. How many students have married parents?\n",
    "married_parents = data[data['ParentMaritalStatus'] == 'married'].shape[0]\n",
    "print(married_parents)"
   ]
  },
  {
   "cell_type": "code",
   "execution_count": 13,
   "id": "9293713a",
   "metadata": {},
   "outputs": [
    {
     "name": "stdout",
     "output_type": "stream",
     "text": [
      "7097\n"
     ]
    }
   ],
   "source": [
    "# 11. How many students have single parents?\n",
    "single_parents = data[data['ParentMaritalStatus'] == 'single'].shape[0]\n",
    "print(single_parents)"
   ]
  },
  {
   "cell_type": "code",
   "execution_count": 14,
   "id": "88679cc7",
   "metadata": {},
   "outputs": [
    {
     "name": "stdout",
     "output_type": "stream",
     "text": [
      "True\n"
     ]
    }
   ],
   "source": [
    "# 12. Do students who regularly participate in sports have higher average math scores than those who never participate in sports?\n",
    "avg_math_sports = data.groupby('PracticeSport')['MathScore'].mean()\n",
    "print(avg_math_sports['regularly'] > avg_math_sports['never'])"
   ]
  },
  {
   "cell_type": "code",
   "execution_count": 15,
   "id": "f290c168",
   "metadata": {},
   "outputs": [
    {
     "name": "stdout",
     "output_type": "stream",
     "text": [
      "True\n"
     ]
    }
   ],
   "source": [
    "# 13. Do students who regularly participate in sports have higher average reading scores than those who never participate in sports?\n",
    "avg_reading_sports = data.groupby('PracticeSport')['ReadingScore'].mean()\n",
    "print(avg_reading_sports['regularly'] > avg_reading_sports['never'])"
   ]
  },
  {
   "cell_type": "code",
   "execution_count": 16,
   "id": "1101117a",
   "metadata": {},
   "outputs": [
    {
     "name": "stdout",
     "output_type": "stream",
     "text": [
      "16145\n"
     ]
    }
   ],
   "source": [
    "# 14. How many students use the school bus to get to school?\n",
    "school_bus_count = data[data['TransportMeans'] == 'school_bus'].shape[0]\n",
    "print(school_bus_count)"
   ]
  },
  {
   "cell_type": "code",
   "execution_count": 17,
   "id": "e59e31cf",
   "metadata": {},
   "outputs": [
    {
     "name": "stdout",
     "output_type": "stream",
     "text": [
      "11362\n"
     ]
    }
   ],
   "source": [
    "# 15. How many students use private transportation to get to school?\n",
    "private_transport_count = data[data['TransportMeans'] == 'private'].shape[0]\n",
    "print(private_transport_count)"
   ]
  },
  {
   "cell_type": "markdown",
   "id": "bb01b6a0",
   "metadata": {},
   "source": [
    "# Classification task"
   ]
  },
  {
   "cell_type": "code",
   "execution_count": 18,
   "id": "8e9aa4f6",
   "metadata": {},
   "outputs": [],
   "source": [
    "from sklearn.model_selection import train_test_split\n",
    "from sklearn.linear_model import LogisticRegression\n",
    "from sklearn.preprocessing import StandardScaler, OneHotEncoder\n",
    "from sklearn.compose import ColumnTransformer\n",
    "from sklearn.pipeline import Pipeline\n",
    "from sklearn.impute import SimpleImputer\n",
    "from sklearn.metrics import accuracy_score\n"
   ]
  },
  {
   "cell_type": "code",
   "execution_count": 19,
   "id": "03c78761",
   "metadata": {},
   "outputs": [
    {
     "name": "stdout",
     "output_type": "stream",
     "text": [
      "Accuracy: 0.75\n"
     ]
    }
   ],
   "source": [
    "X = data.dropna().drop(\"TestPrep\", axis=1)\n",
    "y = data.dropna()[\"TestPrep\"]\n",
    "\n",
    "categorical_features = ['Gender', 'EthnicGroup', 'ParentEduc', 'LunchType', 'ParentMaritalStatus', 'PracticeSport', 'IsFirstChild', 'TransportMeans', 'WklyStudyHours']\n",
    "numeric_features = ['NrSiblings', 'MathScore', 'ReadingScore', 'WritingScore']\n",
    "\n",
    "preprocessor = ColumnTransformer(transformers=[\n",
    "    ('num', SimpleImputer(strategy='median'), numeric_features),\n",
    "    ('cat', OneHotEncoder(handle_unknown='ignore'), categorical_features)\n",
    "])\n",
    "\n",
    "scaler = StandardScaler()\n",
    "\n",
    "pipeline = Pipeline(steps=[('preprocessor', preprocessor),\n",
    "                           ('scaler', scaler),\n",
    "                           ('classifier', LogisticRegression(solver='liblinear', random_state=42))])\n",
    "\n",
    "X_train, X_test, y_train, y_test = train_test_split(X, y, random_state=42)\n",
    "\n",
    "pipeline.fit(X_train, y_train)\n",
    "\n",
    "y_pred = pipeline.predict(X_test)\n",
    "\n",
    "accuracy = accuracy_score(y_test, y_pred)\n",
    "print(f\"Accuracy: {accuracy:.2f}\")"
   ]
  },
  {
   "cell_type": "code",
   "execution_count": 19,
   "id": "60161910",
   "metadata": {},
   "outputs": [],
   "source": []
  }
 ],
 "metadata": {
  "kernelspec": {
   "display_name": "Python 3 (ipykernel)",
   "language": "python",
   "name": "python3"
  },
  "language_info": {
   "codemirror_mode": {
    "name": "ipython",
    "version": 3
   },
   "file_extension": ".py",
   "mimetype": "text/x-python",
   "name": "python",
   "nbconvert_exporter": "python",
   "pygments_lexer": "ipython3",
   "version": "3.9.6"
  }
 },
 "nbformat": 4,
 "nbformat_minor": 5
}
