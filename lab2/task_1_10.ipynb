{
 "cells": [
  {
   "cell_type": "code",
   "execution_count": 21,
   "metadata": {
    "collapsed": true
   },
   "outputs": [],
   "source": [
    "import numpy as np"
   ]
  },
  {
   "cell_type": "code",
   "execution_count": 22,
   "outputs": [],
   "source": [
    "n = int(input(\"Enter n: \"))\n",
    "m = int(input(\"Enter m: \"))"
   ],
   "metadata": {
    "collapsed": false
   }
  },
  {
   "cell_type": "code",
   "execution_count": 23,
   "outputs": [
    {
     "name": "stdout",
     "output_type": "stream",
     "text": [
      "3491\n",
      "9040\n",
      "2749.361122758037\n",
      "CPU times: user 290 µs, sys: 255 µs, total: 545 µs\n",
      "Wall time: 529 µs\n"
     ]
    }
   ],
   "source": [
    "%%time\n",
    "%precision 3\n",
    "import random\n",
    "\n",
    "def mean(matrix):\n",
    "    total = 0\n",
    "    count = 0\n",
    "    for row in matrix:\n",
    "        for num in row:\n",
    "            total += num\n",
    "            count += 1\n",
    "    return total / count\n",
    "\n",
    "def standard_deviation(matrix):\n",
    "    mean_val = mean(matrix)\n",
    "    squared_diff_sum = 0\n",
    "    count = 0\n",
    "    for row in matrix:\n",
    "        for num in row:\n",
    "            squared_diff_sum += (num - mean_val) ** 2\n",
    "            count += 1\n",
    "    variance = squared_diff_sum / count\n",
    "    return variance ** 0.5\n",
    "\n",
    "arr = [[random.randint(0, 10000) for col in range(m)] for row in range(n)]\n",
    "print(min(min(arr)))\n",
    "print(max(max(arr)))\n",
    "print(standard_deviation(arr))"
   ],
   "metadata": {
    "collapsed": false
   }
  },
  {
   "cell_type": "code",
   "execution_count": 24,
   "outputs": [
    {
     "name": "stdout",
     "output_type": "stream",
     "text": [
      "901\n",
      "9323\n",
      "4067.9166666666665\n",
      "CPU times: user 451 µs, sys: 433 µs, total: 884 µs\n",
      "Wall time: 859 µs\n"
     ]
    }
   ],
   "source": [
    "%%time\n",
    "%precision 3\n",
    "\n",
    "arr = np.random.randint(0, 10000, (n, m))\n",
    "print(np.min(arr))\n",
    "print(np.max(arr))\n",
    "print(np.mean(arr))"
   ],
   "metadata": {
    "collapsed": false
   }
  }
 ],
 "metadata": {
  "kernelspec": {
   "display_name": "Python 3",
   "language": "python",
   "name": "python3"
  },
  "language_info": {
   "codemirror_mode": {
    "name": "ipython",
    "version": 2
   },
   "file_extension": ".py",
   "mimetype": "text/x-python",
   "name": "python",
   "nbconvert_exporter": "python",
   "pygments_lexer": "ipython2",
   "version": "2.7.6"
  }
 },
 "nbformat": 4,
 "nbformat_minor": 0
}
