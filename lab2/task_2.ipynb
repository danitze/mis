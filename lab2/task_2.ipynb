{
 "cells": [
  {
   "cell_type": "markdown",
   "source": [
    "Розв'язати СЛАР:\n",
    "$$\n",
    "\\begin{equation*}\n",
    " \\begin{cases}\n",
    "   x_1 + x_2 + 2x_3 + 3x_4 = 1,\n",
    "   \\\\\n",
    "   3x_1 - x_2 - x_3 - 2x_4 = -4,\n",
    "   \\\\\n",
    "   2x_1 - 3x_2 - 1x_3 - 1x_4 = -6,\n",
    "   \\\\\n",
    "   x_1 + 2x_2 + 3x_3 - x_4 = -4.\n",
    " \\end{cases}\n",
    "\\end{equation*}\n",
    "$$"
   ],
   "metadata": {
    "collapsed": false
   }
  },
  {
   "cell_type": "code",
   "execution_count": 20,
   "outputs": [],
   "source": [
    "import numpy as np"
   ],
   "metadata": {
    "collapsed": false
   }
  },
  {
   "cell_type": "code",
   "execution_count": 21,
   "outputs": [],
   "source": [
    "a = [\n",
    "    [1, 1, 2, 3],\n",
    "    [3, -1, -1, -2],\n",
    "    [2, -3, -1, -1],\n",
    "    [1, 2, 3, -1]\n",
    "]\n",
    "b = [1, -4, -6, -4]"
   ],
   "metadata": {
    "collapsed": false
   }
  },
  {
   "cell_type": "code",
   "execution_count": 22,
   "outputs": [
    {
     "data": {
      "text/plain": "[-0.5555555555555556, 1.8888888888888888, -2.0, 1.2222222222222223]"
     },
     "execution_count": 22,
     "metadata": {},
     "output_type": "execute_result"
    }
   ],
   "source": [
    "def create_submatrix(matrix, row_to_exclude, col_to_exclude):\n",
    "    submatrix = []\n",
    "    for i in range(len(matrix)):\n",
    "        if i == row_to_exclude:\n",
    "            continue\n",
    "        subrow = []\n",
    "        for j in range(len(matrix[i])):\n",
    "            if j == col_to_exclude:\n",
    "                continue\n",
    "            subrow.append(matrix[i][j])\n",
    "        submatrix.append(subrow)\n",
    "    return submatrix\n",
    "\n",
    "def create_replaced_matrix(matr_a, matr_b, col_to_replace):\n",
    "    new_matrix = []\n",
    "    for i in range(len(matr_a)):\n",
    "        row = []\n",
    "        for j in range(len(matr_a[i])):\n",
    "            if j == col_to_replace:\n",
    "                element = matr_b[i]\n",
    "            else:\n",
    "                element = matr_a[i][j]\n",
    "            row.append(element)\n",
    "        new_matrix.append(row)\n",
    "    return new_matrix\n",
    "\n",
    "def det(matrix: list[list[int]]) -> int:\n",
    "    if len(matrix) != len(matrix[0]):\n",
    "        raise \"Matrix is not square\"\n",
    "    if len(matrix) == 2:\n",
    "        return matrix[0][0] * matrix[1][1] - matrix[1][0] * matrix[0][1]\n",
    "    multiplier = 1\n",
    "    determinant = 0\n",
    "    for i in range(len(matrix)):\n",
    "        determinant += multiplier * matrix[i][0] * det(create_submatrix(matrix, i, 0))\n",
    "        multiplier *= -1\n",
    "    return determinant\n",
    "\n",
    "def calculate_solution(matr_a: list[list[int]], matr_b: list[int]) -> list[int]:\n",
    "    result = []\n",
    "    main_det = det(matr_a)\n",
    "    for i in range(len(matr_a)):\n",
    "        ai_matr = create_replaced_matrix(matr_a, matr_b, i)\n",
    "        result.append(det(ai_matr) / main_det)\n",
    "    return result\n",
    "\n",
    "solution1 = calculate_solution(a, b)\n",
    "solution1"
   ],
   "metadata": {
    "collapsed": false
   }
  },
  {
   "cell_type": "code",
   "execution_count": 23,
   "outputs": [
    {
     "data": {
      "text/plain": "array([-0.55555556,  1.88888889, -2.        ,  1.22222222])"
     },
     "execution_count": 23,
     "metadata": {},
     "output_type": "execute_result"
    }
   ],
   "source": [
    "def create_submatrix_np(matrix, row_to_exclude, col_to_exclude):\n",
    "    new_matrix = np.delete(matrix, row_to_exclude, axis=0)\n",
    "    new_matrix = np.delete(new_matrix, col_to_exclude, axis=1)\n",
    "    return new_matrix\n",
    "\n",
    "def create_replaced_matrix_np(matr_a, matr_b, col_to_replace):\n",
    "    new_matrix = np.copy(matr_a)\n",
    "    new_matrix[:, col_to_replace] = matr_b\n",
    "    return new_matrix\n",
    "\n",
    "np_a = np.array(a)\n",
    "np_b = np.array(b)\n",
    "\n",
    "main_det = np.linalg.det(np_a)\n",
    "solution2 = np.array(\n",
    "    [np.linalg.det(create_replaced_matrix_np(np_a, np_b, i)) / main_det for i in range(np_a.shape[1])]\n",
    ")\n",
    "solution2"
   ],
   "metadata": {
    "collapsed": false
   }
  },
  {
   "cell_type": "code",
   "execution_count": 24,
   "outputs": [
    {
     "data": {
      "text/plain": "array([-0.55555556,  1.88888889, -2.        ,  1.22222222])"
     },
     "execution_count": 24,
     "metadata": {},
     "output_type": "execute_result"
    }
   ],
   "source": [
    "solution3 = np.linalg.solve(\n",
    "    np.array(a),\n",
    "    np.array(b)\n",
    ")\n",
    "solution3"
   ],
   "metadata": {
    "collapsed": false
   }
  },
  {
   "cell_type": "code",
   "execution_count": 25,
   "outputs": [
    {
     "data": {
      "text/plain": "True"
     },
     "execution_count": 25,
     "metadata": {},
     "output_type": "execute_result"
    }
   ],
   "source": [
    "np.allclose(solution1, solution2)\n",
    "np.allclose(solution2, solution3)"
   ],
   "metadata": {
    "collapsed": false
   }
  },
  {
   "cell_type": "code",
   "execution_count": 26,
   "outputs": [
    {
     "data": {
      "text/plain": "True"
     },
     "execution_count": 26,
     "metadata": {},
     "output_type": "execute_result"
    }
   ],
   "source": [
    "np.allclose(np.dot(np_a, solution2), np_b)"
   ],
   "metadata": {
    "collapsed": false
   }
  },
  {
   "cell_type": "code",
   "execution_count": 27,
   "outputs": [
    {
     "data": {
      "text/plain": "True"
     },
     "execution_count": 27,
     "metadata": {},
     "output_type": "execute_result"
    }
   ],
   "source": [
    "np.allclose(np.dot(np.linalg.inv(np_a), np_b), solution2)"
   ],
   "metadata": {
    "collapsed": false
   }
  }
 ],
 "metadata": {
  "kernelspec": {
   "display_name": "Python 3",
   "language": "python",
   "name": "python3"
  },
  "language_info": {
   "codemirror_mode": {
    "name": "ipython",
    "version": 2
   },
   "file_extension": ".py",
   "mimetype": "text/x-python",
   "name": "python",
   "nbconvert_exporter": "python",
   "pygments_lexer": "ipython2",
   "version": "2.7.6"
  }
 },
 "nbformat": 4,
 "nbformat_minor": 0
}
