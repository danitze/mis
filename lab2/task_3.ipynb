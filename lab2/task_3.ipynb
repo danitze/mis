{
 "cells": [
  {
   "cell_type": "markdown",
   "source": [
    "Підрахувати вираз:\n",
    "$$\n",
    "2(A + B)(2B - A), де\n",
    "\\\\\n",
    "A =\n",
    "\\begin{pmatrix}\n",
    "2 & 3 & -1 \\\\\n",
    "4 & 5 & 2 \\\\\n",
    "-1 & 0 & 7\n",
    "\\end{pmatrix}\n",
    ",\\quad\n",
    "B =\n",
    "\\begin{pmatrix}\n",
    "-1 & 0 & 5 \\\\\n",
    "0 & 1 & 3 \\\\\n",
    "2 & -2 & 4\n",
    "\\end{pmatrix}\n",
    "$$"
   ],
   "metadata": {
    "collapsed": false
   }
  },
  {
   "cell_type": "code",
   "execution_count": 83,
   "outputs": [],
   "source": [
    "a = [\n",
    "    [2, 3, -1],\n",
    "    [4, 5, 2],\n",
    "    [-1, 0, 7]\n",
    "]\n",
    "b = [\n",
    "    [-1, 0, 5],\n",
    "    [0, 1, 3],\n",
    "    [2, -2, 4]\n",
    "]"
   ],
   "metadata": {
    "collapsed": false
   }
  },
  {
   "cell_type": "code",
   "execution_count": 84,
   "outputs": [
    {
     "name": "stdout",
     "output_type": "stream",
     "text": [
      "CPU times: user 66 µs, sys: 71 µs, total: 137 µs\n",
      "Wall time: 157 µs\n"
     ]
    },
    {
     "data": {
      "text/plain": "[[8, -56, 54], [-30, -100, 146], [118, -82, 28]]"
     },
     "execution_count": 84,
     "metadata": {},
     "output_type": "execute_result"
    }
   ],
   "source": [
    "%%time\n",
    "def mat_mul(mat1: list[list[int]], mat2: list[list[int]]) -> list[list[int]]:\n",
    "    res_mat = []\n",
    "    for i in range(len(mat1)):\n",
    "        res_row = []\n",
    "        for j in range(len(mat2[i])):\n",
    "            value = 0\n",
    "            for k in range(len(mat2)):\n",
    "                value += mat1[i][k] * mat2[k][j]\n",
    "            res_row.append(value)\n",
    "        res_mat.append(res_row)\n",
    "    return res_mat\n",
    "\n",
    "def mat_add(mat1: list[list[int]], mat2: list[list[int]]) -> list[list[int]]:\n",
    "    res_mat = [[0 for _ in range(len(mat1[row]))] for row in range(len(mat1))]\n",
    "    for i in range(len(res_mat)):\n",
    "        for j in range(len(res_mat[i])):\n",
    "            res_mat[i][j] = mat1[i][j] + mat2[i][j]\n",
    "    return res_mat\n",
    "\n",
    "def mat_mult_scalar(mat: list[list[int]], multiplier: int) -> list[list[int]]:\n",
    "    res_mat = [[0 for _ in range(len(mat[row]))] for row in range(len(mat))]\n",
    "    for i in range(len(res_mat)):\n",
    "        for j in range(len(res_mat[i])):\n",
    "            res_mat[i][j] = mat[i][j] * multiplier\n",
    "    return res_mat\n",
    "res1 = mat_mult_scalar(mat_mul(mat_add(a, b), mat_add(mat_mult_scalar(b, 2), mat_mult_scalar(a, -1))), 2)\n",
    "res1"
   ],
   "metadata": {
    "collapsed": false
   }
  },
  {
   "cell_type": "code",
   "execution_count": 85,
   "outputs": [
    {
     "name": "stdout",
     "output_type": "stream",
     "text": [
      "CPU times: user 60 µs, sys: 381 µs, total: 441 µs\n",
      "Wall time: 489 µs\n"
     ]
    },
    {
     "data": {
      "text/plain": "array([[   8,  -56,   54],\n       [ -30, -100,  146],\n       [ 118,  -82,   28]])"
     },
     "execution_count": 85,
     "metadata": {},
     "output_type": "execute_result"
    }
   ],
   "source": [
    "%%time\n",
    "import numpy as np\n",
    "a = [\n",
    "    [2, 3, -1],\n",
    "    [4, 5, 2],\n",
    "    [-1, 0, 7]\n",
    "]\n",
    "b = [\n",
    "    [-1, 0, 5],\n",
    "    [0, 1, 3],\n",
    "    [2, -2, 4]\n",
    "]\n",
    "a = np.array(a)\n",
    "b = np.array(b)\n",
    "res2 = 2 * np.dot(a + b, 2 * b - a)\n",
    "res2"
   ],
   "metadata": {
    "collapsed": false
   }
  },
  {
   "cell_type": "code",
   "execution_count": 86,
   "outputs": [
    {
     "data": {
      "text/plain": "True"
     },
     "execution_count": 86,
     "metadata": {},
     "output_type": "execute_result"
    }
   ],
   "source": [
    "np.allclose(res1, res2)"
   ],
   "metadata": {
    "collapsed": false
   }
  }
 ],
 "metadata": {
  "kernelspec": {
   "display_name": "Python 3",
   "language": "python",
   "name": "python3"
  },
  "language_info": {
   "codemirror_mode": {
    "name": "ipython",
    "version": 2
   },
   "file_extension": ".py",
   "mimetype": "text/x-python",
   "name": "python",
   "nbconvert_exporter": "python",
   "pygments_lexer": "ipython2",
   "version": "2.7.6"
  }
 },
 "nbformat": 4,
 "nbformat_minor": 0
}
