{
 "cells": [
  {
   "cell_type": "code",
   "execution_count": 85,
   "metadata": {
    "collapsed": true
   },
   "outputs": [],
   "source": [
    "import numpy as np"
   ]
  },
  {
   "cell_type": "code",
   "execution_count": 86,
   "outputs": [],
   "source": [
    "n = int(input(\"Enter n\"))"
   ],
   "metadata": {
    "collapsed": false
   }
  },
  {
   "cell_type": "code",
   "execution_count": 87,
   "outputs": [
    {
     "name": "stdout",
     "output_type": "stream",
     "text": [
      "CPU times: user 31 µs, sys: 1e+03 ns, total: 32 µs\n",
      "Wall time: 42 µs\n"
     ]
    },
    {
     "data": {
      "text/plain": "[[1, 0, 0, 0, 0, 0],\n [0, 2, 0, 0, 0, 0],\n [0, 0, 3, 0, 0, 0],\n [0, 0, 0, 4, 0, 0],\n [0, 0, 0, 0, 5, 0],\n [0, 0, 0, 0, 0, 6]]"
     },
     "execution_count": 87,
     "metadata": {},
     "output_type": "execute_result"
    }
   ],
   "source": [
    "%%time\n",
    "a = [[0 for col in range(1, n + 1)] for row in range(1, n + 1)]\n",
    "for i in range(n):\n",
    "    a[i][i] = i + 1\n",
    "a"
   ],
   "metadata": {
    "collapsed": false
   }
  },
  {
   "cell_type": "code",
   "execution_count": 88,
   "outputs": [
    {
     "name": "stdout",
     "output_type": "stream",
     "text": [
      "CPU times: user 56 µs, sys: 132 µs, total: 188 µs\n",
      "Wall time: 188 µs\n"
     ]
    },
    {
     "data": {
      "text/plain": "array([[1, 0, 0, 0, 0, 0],\n       [0, 2, 0, 0, 0, 0],\n       [0, 0, 3, 0, 0, 0],\n       [0, 0, 0, 4, 0, 0],\n       [0, 0, 0, 0, 5, 0],\n       [0, 0, 0, 0, 0, 6]])"
     },
     "execution_count": 88,
     "metadata": {},
     "output_type": "execute_result"
    }
   ],
   "source": [
    "%%time\n",
    "a = np.arange(1, n + 1)\n",
    "np.diag(a)"
   ],
   "metadata": {
    "collapsed": false
   }
  },
  {
   "cell_type": "code",
   "execution_count": null,
   "outputs": [],
   "source": [],
   "metadata": {
    "collapsed": false
   }
  }
 ],
 "metadata": {
  "kernelspec": {
   "display_name": "Python 3",
   "language": "python",
   "name": "python3"
  },
  "language_info": {
   "codemirror_mode": {
    "name": "ipython",
    "version": 2
   },
   "file_extension": ".py",
   "mimetype": "text/x-python",
   "name": "python",
   "nbconvert_exporter": "python",
   "pygments_lexer": "ipython2",
   "version": "2.7.6"
  }
 },
 "nbformat": 4,
 "nbformat_minor": 0
}
