{
 "cells": [
  {
   "cell_type": "code",
   "execution_count": 5,
   "metadata": {
    "collapsed": true
   },
   "outputs": [],
   "source": [
    "import numpy as np"
   ]
  },
  {
   "cell_type": "code",
   "execution_count": 6,
   "outputs": [],
   "source": [
    "n = int(input(\"Enter n: \"))"
   ],
   "metadata": {
    "collapsed": false
   }
  },
  {
   "cell_type": "code",
   "execution_count": 7,
   "outputs": [
    {
     "name": "stdout",
     "output_type": "stream",
     "text": [
      "CPU times: user 9.79 ms, sys: 6.16 ms, total: 16 ms\n",
      "Wall time: 16.4 ms\n"
     ]
    }
   ],
   "source": [
    "%%time\n",
    "arr = [[1 for col in range(n)] for row in range(n)]\n",
    "new_arr = [[0 for i in range(n)]]\n",
    "for i in range(n):\n",
    "    new_row = [0]\n",
    "    for j in range(n):\n",
    "        new_row.append(arr[i][j])\n",
    "    new_row.append(0)\n",
    "    new_arr.append(new_row)\n",
    "new_arr.append([0 for i in range(n)])"
   ],
   "metadata": {
    "collapsed": false
   }
  },
  {
   "cell_type": "code",
   "execution_count": 8,
   "outputs": [
    {
     "name": "stdout",
     "output_type": "stream",
     "text": [
      "CPU times: user 823 µs, sys: 740 µs, total: 1.56 ms\n",
      "Wall time: 1.45 ms\n"
     ]
    },
    {
     "data": {
      "text/plain": "array([[0., 0., 0., ..., 0., 0., 0.],\n       [0., 1., 1., ..., 1., 1., 0.],\n       [0., 1., 1., ..., 1., 1., 0.],\n       ...,\n       [0., 1., 1., ..., 1., 1., 0.],\n       [0., 1., 1., ..., 1., 1., 0.],\n       [0., 0., 0., ..., 0., 0., 0.]])"
     },
     "execution_count": 8,
     "metadata": {},
     "output_type": "execute_result"
    }
   ],
   "source": [
    "%%time\n",
    "arr_np = np.ones((n, n))\n",
    "arr_np = np.concatenate([np.zeros((1, n)), arr_np], axis=0)\n",
    "arr_np = np.concatenate([arr_np, np.zeros((1, n))], axis=0)\n",
    "arr_np = np.concatenate([np.zeros((n + 2, 1)), arr_np], axis=1)\n",
    "arr_np = np.concatenate([arr_np, np.zeros((n + 2, 1))], axis=1)\n",
    "arr_np"
   ],
   "metadata": {
    "collapsed": false
   }
  }
 ],
 "metadata": {
  "kernelspec": {
   "display_name": "Python 3",
   "language": "python",
   "name": "python3"
  },
  "language_info": {
   "codemirror_mode": {
    "name": "ipython",
    "version": 2
   },
   "file_extension": ".py",
   "mimetype": "text/x-python",
   "name": "python",
   "nbconvert_exporter": "python",
   "pygments_lexer": "ipython2",
   "version": "2.7.6"
  }
 },
 "nbformat": 4,
 "nbformat_minor": 0
}
